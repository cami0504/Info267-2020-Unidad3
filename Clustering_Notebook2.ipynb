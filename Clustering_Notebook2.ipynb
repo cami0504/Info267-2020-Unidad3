{
 "cells": [
  {
   "cell_type": "markdown",
   "metadata": {},
   "source": [
    "# Notebook 2:  Clustering con GMM y Algoritmos Jerárquicos\n",
    "\n",
    "En este notebook vamos a implementar el algoritmo de clustering de Mezcla de Normales en R. El objetivo es entender como funciona este algoritmo y  aprender a utilizarlo con un ejemplo simple. Se incluye además la estrategia para definir el número de grupos k. Al final se propone un ejercicio con nuevos datos, con el fin de aprender a utilizar el algoritmo. "
   ]
  },
  {
   "cell_type": "code",
   "execution_count": 1,
   "metadata": {},
   "outputs": [
    {
     "name": "stderr",
     "output_type": "stream",
     "text": [
      "Warning message:\n",
      "\"package 'mclust' was built under R version 3.6.2\"Package 'mclust' version 5.4.5\n",
      "Type 'citation(\"mclust\")' for citing this R package in publications.\n"
     ]
    },
    {
     "data": {
      "text/plain": [
       "     WATER          PROTEIN            FAT           LACTOSE     \n",
       " Min.   :44.90   Min.   : 0.600   Min.   : 1.00   Min.   :0.000  \n",
       " 1st Qu.:71.30   1st Qu.: 3.000   1st Qu.: 3.40   1st Qu.:2.700  \n",
       " Median :82.00   Median : 5.900   Median : 6.30   Median :4.700  \n",
       " Mean   :78.18   Mean   : 6.212   Mean   :10.31   Mean   :4.132  \n",
       " 3rd Qu.:87.70   3rd Qu.: 9.700   3rd Qu.:13.10   3rd Qu.:5.600  \n",
       " Max.   :90.40   Max.   :12.300   Max.   :42.00   Max.   :6.900  \n",
       "      ASH        \n",
       " Min.   :0.1000  \n",
       " 1st Qu.:0.5300  \n",
       " Median :0.8000  \n",
       " Mean   :0.8632  \n",
       " 3rd Qu.:1.1000  \n",
       " Max.   :2.3000  "
      ]
     },
     "metadata": {},
     "output_type": "display_data"
    }
   ],
   "source": [
    "library(mclust)\n",
    "library(cluster)\n",
    "#ruta datos\n",
    "#lee datos del archivo de texto como una matriz. La primera #columna se utiliza como vector de nombres de las filas\n",
    "datos <-read.table(\"milk1.dat\",row.names=1,dec=\".\",header=TRUE)\n",
    "summary(datos)"
   ]
  },
  {
   "cell_type": "code",
   "execution_count": 2,
   "metadata": {
    "scrolled": true
   },
   "outputs": [
    {
     "data": {
      "text/plain": [
       "---------------------------------------------------- \n",
       "Gaussian finite mixture model fitted by EM algorithm \n",
       "---------------------------------------------------- \n",
       "\n",
       "Mclust VEV (ellipsoidal, equal shape) model with 4 components: \n",
       "\n",
       " log-likelihood  n df       BIC       ICL\n",
       "      -129.0138 25 71 -486.5678 -486.5782\n",
       "\n",
       "Clustering table:\n",
       "1 2 3 4 \n",
       "5 8 7 5 "
      ]
     },
     "metadata": {},
     "output_type": "display_data"
    },
    {
     "data": {
      "text/plain": [
       "'Mclust' model object: (VEV,4) \n",
       "\n",
       "Available components: \n",
       " [1] \"call\"           \"data\"           \"modelName\"      \"n\"             \n",
       " [5] \"d\"              \"G\"              \"BIC\"            \"bic\"           \n",
       " [9] \"loglik\"         \"df\"             \"hypvol\"         \"parameters\"    \n",
       "[13] \"z\"              \"classification\" \"uncertainty\"   "
      ]
     },
     "metadata": {},
     "output_type": "display_data"
    },
    {
     "data": {
      "text/html": [
       "<table>\n",
       "<thead><tr><th scope=col>WATER</th><th scope=col>PROTEIN</th><th scope=col>FAT</th><th scope=col>LACTOSE</th><th scope=col>ASH</th></tr></thead>\n",
       "<tbody>\n",
       "\t<tr><td>89.45999 </td><td> 1.980001</td><td> 2.080005</td><td>6.200009 </td><td>0.3279979</td></tr>\n",
       "\t<tr><td>71.88271 </td><td> 7.298580</td><td>15.881214</td><td>3.088610 </td><td>0.7512686</td></tr>\n",
       "\t<tr><td>84.71493 </td><td> 4.756873</td><td> 4.756149</td><td>5.100211 </td><td>0.8185953</td></tr>\n",
       "\t<tr><td>67.86000 </td><td>10.740002</td><td>17.380003</td><td>2.379999 </td><td>1.6400005</td></tr>\n",
       "</tbody>\n",
       "</table>\n"
      ],
      "text/latex": [
       "\\begin{tabular}{lllll}\n",
       " WATER & PROTEIN & FAT & LACTOSE & ASH\\\\\n",
       "\\hline\n",
       "\t 89.45999  &  1.980001 &  2.080005 & 6.200009  & 0.3279979\\\\\n",
       "\t 71.88271  &  7.298580 & 15.881214 & 3.088610  & 0.7512686\\\\\n",
       "\t 84.71493  &  4.756873 &  4.756149 & 5.100211  & 0.8185953\\\\\n",
       "\t 67.86000  & 10.740002 & 17.380003 & 2.379999  & 1.6400005\\\\\n",
       "\\end{tabular}\n"
      ],
      "text/markdown": [
       "\n",
       "| WATER | PROTEIN | FAT | LACTOSE | ASH |\n",
       "|---|---|---|---|---|\n",
       "| 89.45999  |  1.980001 |  2.080005 | 6.200009  | 0.3279979 |\n",
       "| 71.88271  |  7.298580 | 15.881214 | 3.088610  | 0.7512686 |\n",
       "| 84.71493  |  4.756873 |  4.756149 | 5.100211  | 0.8185953 |\n",
       "| 67.86000  | 10.740002 | 17.380003 | 2.379999  | 1.6400005 |\n",
       "\n"
      ],
      "text/plain": [
       "     WATER    PROTEIN   FAT       LACTOSE  ASH      \n",
       "[1,] 89.45999  1.980001  2.080005 6.200009 0.3279979\n",
       "[2,] 71.88271  7.298580 15.881214 3.088610 0.7512686\n",
       "[3,] 84.71493  4.756873  4.756149 5.100211 0.8185953\n",
       "[4,] 67.86000 10.740002 17.380003 2.379999 1.6400005"
      ]
     },
     "metadata": {},
     "output_type": "display_data"
    },
    {
     "data": {
      "text/html": [
       "<dl class=dl-horizontal>\n",
       "\t<dt>HORSE</dt>\n",
       "\t\t<dd>1</dd>\n",
       "\t<dt>ORANGUTAN</dt>\n",
       "\t\t<dd>1</dd>\n",
       "\t<dt>MONKEY</dt>\n",
       "\t\t<dd>1</dd>\n",
       "\t<dt>DONKEY</dt>\n",
       "\t\t<dd>1</dd>\n",
       "\t<dt>HIPPO</dt>\n",
       "\t\t<dd>2</dd>\n",
       "\t<dt>CAMEL</dt>\n",
       "\t\t<dd>3</dd>\n",
       "\t<dt>BISON</dt>\n",
       "\t\t<dd>3</dd>\n",
       "\t<dt>BUFFALO</dt>\n",
       "\t\t<dd>3</dd>\n",
       "\t<dt>GUINEA_PIG</dt>\n",
       "\t\t<dd>2</dd>\n",
       "\t<dt>CAT</dt>\n",
       "\t\t<dd>2</dd>\n",
       "\t<dt>FOX</dt>\n",
       "\t\t<dd>3</dd>\n",
       "\t<dt>LLAMA</dt>\n",
       "\t\t<dd>3</dd>\n",
       "\t<dt>MULE</dt>\n",
       "\t\t<dd>1</dd>\n",
       "\t<dt>PIG</dt>\n",
       "\t\t<dd>2</dd>\n",
       "\t<dt>ZEBRA</dt>\n",
       "\t\t<dd>3</dd>\n",
       "\t<dt>SHEEP</dt>\n",
       "\t\t<dd>3</dd>\n",
       "\t<dt>DOG</dt>\n",
       "\t\t<dd>2</dd>\n",
       "\t<dt>ELEPHANT</dt>\n",
       "\t\t<dd>2</dd>\n",
       "\t<dt>RABBIT</dt>\n",
       "\t\t<dd>4</dd>\n",
       "\t<dt>RAT</dt>\n",
       "\t\t<dd>4</dd>\n",
       "\t<dt>DEER</dt>\n",
       "\t\t<dd>4</dd>\n",
       "\t<dt>REINDEER</dt>\n",
       "\t\t<dd>4</dd>\n",
       "\t<dt>WHALE</dt>\n",
       "\t\t<dd>4</dd>\n",
       "\t<dt>SEAL</dt>\n",
       "\t\t<dd>2</dd>\n",
       "\t<dt>DOLPHIN</dt>\n",
       "\t\t<dd>2</dd>\n",
       "</dl>\n"
      ],
      "text/latex": [
       "\\begin{description*}\n",
       "\\item[HORSE] 1\n",
       "\\item[ORANGUTAN] 1\n",
       "\\item[MONKEY] 1\n",
       "\\item[DONKEY] 1\n",
       "\\item[HIPPO] 2\n",
       "\\item[CAMEL] 3\n",
       "\\item[BISON] 3\n",
       "\\item[BUFFALO] 3\n",
       "\\item[GUINEA\\textbackslash{}\\_PIG] 2\n",
       "\\item[CAT] 2\n",
       "\\item[FOX] 3\n",
       "\\item[LLAMA] 3\n",
       "\\item[MULE] 1\n",
       "\\item[PIG] 2\n",
       "\\item[ZEBRA] 3\n",
       "\\item[SHEEP] 3\n",
       "\\item[DOG] 2\n",
       "\\item[ELEPHANT] 2\n",
       "\\item[RABBIT] 4\n",
       "\\item[RAT] 4\n",
       "\\item[DEER] 4\n",
       "\\item[REINDEER] 4\n",
       "\\item[WHALE] 4\n",
       "\\item[SEAL] 2\n",
       "\\item[DOLPHIN] 2\n",
       "\\end{description*}\n"
      ],
      "text/markdown": [
       "HORSE\n",
       ":   1ORANGUTAN\n",
       ":   1MONKEY\n",
       ":   1DONKEY\n",
       ":   1HIPPO\n",
       ":   2CAMEL\n",
       ":   3BISON\n",
       ":   3BUFFALO\n",
       ":   3GUINEA_PIG\n",
       ":   2CAT\n",
       ":   2FOX\n",
       ":   3LLAMA\n",
       ":   3MULE\n",
       ":   1PIG\n",
       ":   2ZEBRA\n",
       ":   3SHEEP\n",
       ":   3DOG\n",
       ":   2ELEPHANT\n",
       ":   2RABBIT\n",
       ":   4RAT\n",
       ":   4DEER\n",
       ":   4REINDEER\n",
       ":   4WHALE\n",
       ":   4SEAL\n",
       ":   2DOLPHIN\n",
       ":   2\n",
       "\n"
      ],
      "text/plain": [
       "     HORSE  ORANGUTAN     MONKEY     DONKEY      HIPPO      CAMEL      BISON \n",
       "         1          1          1          1          2          3          3 \n",
       "   BUFFALO GUINEA_PIG        CAT        FOX      LLAMA       MULE        PIG \n",
       "         3          2          2          3          3          1          2 \n",
       "     ZEBRA      SHEEP        DOG   ELEPHANT     RABBIT        RAT       DEER \n",
       "         3          3          2          2          4          4          4 \n",
       "  REINDEER      WHALE       SEAL    DOLPHIN \n",
       "         4          4          2          2 "
      ]
     },
     "metadata": {},
     "output_type": "display_data"
    }
   ],
   "source": [
    "clus <-Mclust(datos, G=4)\n",
    "summary(clus)\n",
    "clus\n",
    "\n",
    "cl <- clus$classification\n",
    "centers <- t(clus$parameters$mean)\n",
    "centers\n",
    "cl\n",
    "\n"
   ]
  },
  {
   "cell_type": "markdown",
   "metadata": {},
   "source": [
    "Ejercicio 1: \n",
    "\n",
    "\n",
    "a) Explique como funciona el método Mclust, describa parámetros de entrada y salida.\n",
    "\n",
    "El método Mclust se inicia mediante agrupamiento jerarquico para modelos de mezcla gaussianos parametrizados.\n",
    "Parametros de entrada: un vector de datos estructurados, G es un vector entero que especifica el numero de agrupaciones de los datos.\n",
    "Parametros de salida: Puede agrupar los datos para mostrar mapa de densidad, o clasificar los datos en las categorias que tiene el dataset.\n",
    "\n",
    "\n",
    "b) Interprete y comente los resultados obtenidos. \n",
    "\n",
    "Crea agrupamiento por los componentes de la leche y detalla las especies que aportaron con muestras para analizar la leche.\n",
    "Mas especificamente, el ejercicio fuerza a que se formen 4 grupos, por lo tanto busca dentro de los modelos posibles el que tenga la menor funcion de perdida con G=4, en este caso VEV, luego como de solicitan los valores medios, despliega el valor medio de cada componente entre los integrantes de cada grupo.<br>\n",
    "Después de eso, se calculó directamente el BIC, generando un sumario y una representación gráfica, permitiendo observar los modelos mas convenientes y con que G logran la mayor verosimilitud (Verosimilitud es inversa a Funcion de perdida).<br>\n",
    "En cambio cuando no se le indica un número de grupos, busca el BIC con mayor verosimilitud, siendo en este caso G=9."
   ]
  },
  {
   "cell_type": "code",
   "execution_count": 3,
   "metadata": {},
   "outputs": [
    {
     "data": {
      "image/png": "[encoded data removed]",
      "text/plain": [
       "plot without title"
      ]
     },
     "metadata": {},
     "output_type": "display_data"
    }
   ],
   "source": [
    "#Análisis de Componentes Principales para graficar los grupos obtenidos\n",
    "#Calcula plano de componentes principales y grafica las observaciones con el número de su grupo\n",
    "res <- princomp(datos, cor=TRUE)\n",
    "res2 <- predict(res,centers)\n",
    "\n",
    "biplot(res,xlabs=cl)\n",
    "#grafica los centros de cada grupo en el plano de componentes principales utilizando colores distintos\n",
    "points(res2[,1:2],col=1:9,pch=19)\n"
   ]
  },
  {
   "cell_type": "markdown",
   "metadata": {},
   "source": [
    "Ejercicio 2: Repita el procedimiento considerando 2, 3 y 4 grupos. Discuta y compare  sus resultados con aquellos obtenidos con k-means"
   ]
  },
  {
   "cell_type": "code",
   "execution_count": 4,
   "metadata": {},
   "outputs": [
    {
     "data": {
      "text/plain": [
       "---------------------------------------------------- \n",
       "Gaussian finite mixture model fitted by EM algorithm \n",
       "---------------------------------------------------- \n",
       "\n",
       "Mclust EVV (ellipsoidal, equal volume) model with 2 components: \n",
       "\n",
       " log-likelihood  n df       BIC       ICL\n",
       "      -176.5541 25 40 -481.8633 -481.8762\n",
       "\n",
       "Clustering table:\n",
       " 1  2 \n",
       "18  7 "
      ]
     },
     "metadata": {},
     "output_type": "display_data"
    },
    {
     "data": {
      "text/plain": [
       "'Mclust' model object: (EVV,2) \n",
       "\n",
       "Available components: \n",
       " [1] \"call\"           \"data\"           \"modelName\"      \"n\"             \n",
       " [5] \"d\"              \"G\"              \"BIC\"            \"bic\"           \n",
       " [9] \"loglik\"         \"df\"             \"hypvol\"         \"parameters\"    \n",
       "[13] \"z\"              \"classification\" \"uncertainty\"   "
      ]
     },
     "metadata": {},
     "output_type": "display_data"
    },
    {
     "data": {
      "text/html": [
       "<table>\n",
       "<thead><tr><th scope=col>WATER</th><th scope=col>PROTEIN</th><th scope=col>FAT</th><th scope=col>LACTOSE</th><th scope=col>ASH</th></tr></thead>\n",
       "<tbody>\n",
       "\t<tr><td>84.69570 </td><td>5.001479 </td><td> 4.969356</td><td>4.821686 </td><td>0.7596701</td></tr>\n",
       "\t<tr><td>61.41853 </td><td>9.328688 </td><td>24.053235</td><td>2.356288 </td><td>1.1297551</td></tr>\n",
       "</tbody>\n",
       "</table>\n"
      ],
      "text/latex": [
       "\\begin{tabular}{lllll}\n",
       " WATER & PROTEIN & FAT & LACTOSE & ASH\\\\\n",
       "\\hline\n",
       "\t 84.69570  & 5.001479  &  4.969356 & 4.821686  & 0.7596701\\\\\n",
       "\t 61.41853  & 9.328688  & 24.053235 & 2.356288  & 1.1297551\\\\\n",
       "\\end{tabular}\n"
      ],
      "text/markdown": [
       "\n",
       "| WATER | PROTEIN | FAT | LACTOSE | ASH |\n",
       "|---|---|---|---|---|\n",
       "| 84.69570  | 5.001479  |  4.969356 | 4.821686  | 0.7596701 |\n",
       "| 61.41853  | 9.328688  | 24.053235 | 2.356288  | 1.1297551 |\n",
       "\n"
      ],
      "text/plain": [
       "     WATER    PROTEIN  FAT       LACTOSE  ASH      \n",
       "[1,] 84.69570 5.001479  4.969356 4.821686 0.7596701\n",
       "[2,] 61.41853 9.328688 24.053235 2.356288 1.1297551"
      ]
     },
     "metadata": {},
     "output_type": "display_data"
    },
    {
     "data": {
      "text/html": [
       "<dl class=dl-horizontal>\n",
       "\t<dt>HORSE</dt>\n",
       "\t\t<dd>1</dd>\n",
       "\t<dt>ORANGUTAN</dt>\n",
       "\t\t<dd>1</dd>\n",
       "\t<dt>MONKEY</dt>\n",
       "\t\t<dd>1</dd>\n",
       "\t<dt>DONKEY</dt>\n",
       "\t\t<dd>1</dd>\n",
       "\t<dt>HIPPO</dt>\n",
       "\t\t<dd>1</dd>\n",
       "\t<dt>CAMEL</dt>\n",
       "\t\t<dd>1</dd>\n",
       "\t<dt>BISON</dt>\n",
       "\t\t<dd>1</dd>\n",
       "\t<dt>BUFFALO</dt>\n",
       "\t\t<dd>1</dd>\n",
       "\t<dt>GUINEA_PIG</dt>\n",
       "\t\t<dd>1</dd>\n",
       "\t<dt>CAT</dt>\n",
       "\t\t<dd>1</dd>\n",
       "\t<dt>FOX</dt>\n",
       "\t\t<dd>1</dd>\n",
       "\t<dt>LLAMA</dt>\n",
       "\t\t<dd>1</dd>\n",
       "\t<dt>MULE</dt>\n",
       "\t\t<dd>1</dd>\n",
       "\t<dt>PIG</dt>\n",
       "\t\t<dd>1</dd>\n",
       "\t<dt>ZEBRA</dt>\n",
       "\t\t<dd>1</dd>\n",
       "\t<dt>SHEEP</dt>\n",
       "\t\t<dd>1</dd>\n",
       "\t<dt>DOG</dt>\n",
       "\t\t<dd>1</dd>\n",
       "\t<dt>ELEPHANT</dt>\n",
       "\t\t<dd>2</dd>\n",
       "\t<dt>RABBIT</dt>\n",
       "\t\t<dd>1</dd>\n",
       "\t<dt>RAT</dt>\n",
       "\t\t<dd>2</dd>\n",
       "\t<dt>DEER</dt>\n",
       "\t\t<dd>2</dd>\n",
       "\t<dt>REINDEER</dt>\n",
       "\t\t<dd>2</dd>\n",
       "\t<dt>WHALE</dt>\n",
       "\t\t<dd>2</dd>\n",
       "\t<dt>SEAL</dt>\n",
       "\t\t<dd>2</dd>\n",
       "\t<dt>DOLPHIN</dt>\n",
       "\t\t<dd>2</dd>\n",
       "</dl>\n"
      ],
      "text/latex": [
       "\\begin{description*}\n",
       "\\item[HORSE] 1\n",
       "\\item[ORANGUTAN] 1\n",
       "\\item[MONKEY] 1\n",
       "\\item[DONKEY] 1\n",
       "\\item[HIPPO] 1\n",
       "\\item[CAMEL] 1\n",
       "\\item[BISON] 1\n",
       "\\item[BUFFALO] 1\n",
       "\\item[GUINEA\\textbackslash{}\\_PIG] 1\n",
       "\\item[CAT] 1\n",
       "\\item[FOX] 1\n",
       "\\item[LLAMA] 1\n",
       "\\item[MULE] 1\n",
       "\\item[PIG] 1\n",
       "\\item[ZEBRA] 1\n",
       "\\item[SHEEP] 1\n",
       "\\item[DOG] 1\n",
       "\\item[ELEPHANT] 2\n",
       "\\item[RABBIT] 1\n",
       "\\item[RAT] 2\n",
       "\\item[DEER] 2\n",
       "\\item[REINDEER] 2\n",
       "\\item[WHALE] 2\n",
       "\\item[SEAL] 2\n",
       "\\item[DOLPHIN] 2\n",
       "\\end{description*}\n"
      ],
      "text/markdown": [
       "HORSE\n",
       ":   1ORANGUTAN\n",
       ":   1MONKEY\n",
       ":   1DONKEY\n",
       ":   1HIPPO\n",
       ":   1CAMEL\n",
       ":   1BISON\n",
       ":   1BUFFALO\n",
       ":   1GUINEA_PIG\n",
       ":   1CAT\n",
       ":   1FOX\n",
       ":   1LLAMA\n",
       ":   1MULE\n",
       ":   1PIG\n",
       ":   1ZEBRA\n",
       ":   1SHEEP\n",
       ":   1DOG\n",
       ":   1ELEPHANT\n",
       ":   2RABBIT\n",
       ":   1RAT\n",
       ":   2DEER\n",
       ":   2REINDEER\n",
       ":   2WHALE\n",
       ":   2SEAL\n",
       ":   2DOLPHIN\n",
       ":   2\n",
       "\n"
      ],
      "text/plain": [
       "     HORSE  ORANGUTAN     MONKEY     DONKEY      HIPPO      CAMEL      BISON \n",
       "         1          1          1          1          1          1          1 \n",
       "   BUFFALO GUINEA_PIG        CAT        FOX      LLAMA       MULE        PIG \n",
       "         1          1          1          1          1          1          1 \n",
       "     ZEBRA      SHEEP        DOG   ELEPHANT     RABBIT        RAT       DEER \n",
       "         1          1          1          2          1          2          2 \n",
       "  REINDEER      WHALE       SEAL    DOLPHIN \n",
       "         2          2          2          2 "
      ]
     },
     "metadata": {},
     "output_type": "display_data"
    },
    {
     "data": {
      "image/png": "[encoded data removed]",
      "text/plain": [
       "plot without title"
      ]
     },
     "metadata": {},
     "output_type": "display_data"
    }
   ],
   "source": [
    "#Para 2 grupos\n",
    "clus <-Mclust(datos, G=2)\n",
    "summary(clus)\n",
    "clus\n",
    "\n",
    "cl <- clus$classification\n",
    "centers <- t(clus$parameters$mean)\n",
    "centers\n",
    "cl\n",
    "\n",
    "res <- princomp(datos, cor=TRUE)\n",
    "res2 <- predict(res,centers)\n",
    "\n",
    "biplot(res,xlabs=cl)\n",
    "#grafica los centros de cada grupo en el plano de componentes principales utilizando colores distintos\n",
    "points(res2[,1:2],col=1:9,pch=19)"
   ]
  },
  {
   "cell_type": "code",
   "execution_count": 5,
   "metadata": {},
   "outputs": [
    {
     "data": {
      "text/plain": [
       "---------------------------------------------------- \n",
       "Gaussian finite mixture model fitted by EM algorithm \n",
       "---------------------------------------------------- \n",
       "\n",
       "Mclust EEV (ellipsoidal, equal volume and shape) model with 3 components: \n",
       "\n",
       " log-likelihood  n df       BIC       ICL\n",
       "      -144.2366 25 52 -455.8548 -455.8584\n",
       "\n",
       "Clustering table:\n",
       " 1  2  3 \n",
       "14  5  6 "
      ]
     },
     "metadata": {},
     "output_type": "display_data"
    },
    {
     "data": {
      "text/plain": [
       "'Mclust' model object: (EEV,3) \n",
       "\n",
       "Available components: \n",
       " [1] \"call\"           \"data\"           \"modelName\"      \"n\"             \n",
       " [5] \"d\"              \"G\"              \"BIC\"            \"bic\"           \n",
       " [9] \"loglik\"         \"df\"             \"hypvol\"         \"parameters\"    \n",
       "[13] \"z\"              \"classification\" \"uncertainty\"   "
      ]
     },
     "metadata": {},
     "output_type": "display_data"
    },
    {
     "data": {
      "text/html": [
       "<table>\n",
       "<thead><tr><th scope=col>WATER</th><th scope=col>PROTEIN</th><th scope=col>FAT</th><th scope=col>LACTOSE</th><th scope=col>ASH</th></tr></thead>\n",
       "<tbody>\n",
       "\t<tr><td>86.26361 </td><td> 3.879049</td><td> 3.921919</td><td>5.221110 </td><td>0.6421765</td></tr>\n",
       "\t<tr><td>72.23683 </td><td> 7.520039</td><td>14.782487</td><td>3.660315 </td><td>0.7079534</td></tr>\n",
       "\t<tr><td>64.28310 </td><td>10.566706</td><td>21.483587</td><td>1.983296 </td><td>1.5083364</td></tr>\n",
       "</tbody>\n",
       "</table>\n"
      ],
      "text/latex": [
       "\\begin{tabular}{lllll}\n",
       " WATER & PROTEIN & FAT & LACTOSE & ASH\\\\\n",
       "\\hline\n",
       "\t 86.26361  &  3.879049 &  3.921919 & 5.221110  & 0.6421765\\\\\n",
       "\t 72.23683  &  7.520039 & 14.782487 & 3.660315  & 0.7079534\\\\\n",
       "\t 64.28310  & 10.566706 & 21.483587 & 1.983296  & 1.5083364\\\\\n",
       "\\end{tabular}\n"
      ],
      "text/markdown": [
       "\n",
       "| WATER | PROTEIN | FAT | LACTOSE | ASH |\n",
       "|---|---|---|---|---|\n",
       "| 86.26361  |  3.879049 |  3.921919 | 5.221110  | 0.6421765 |\n",
       "| 72.23683  |  7.520039 | 14.782487 | 3.660315  | 0.7079534 |\n",
       "| 64.28310  | 10.566706 | 21.483587 | 1.983296  | 1.5083364 |\n",
       "\n"
      ],
      "text/plain": [
       "     WATER    PROTEIN   FAT       LACTOSE  ASH      \n",
       "[1,] 86.26361  3.879049  3.921919 5.221110 0.6421765\n",
       "[2,] 72.23683  7.520039 14.782487 3.660315 0.7079534\n",
       "[3,] 64.28310 10.566706 21.483587 1.983296 1.5083364"
      ]
     },
     "metadata": {},
     "output_type": "display_data"
    },
    {
     "data": {
      "text/html": [
       "<dl class=dl-horizontal>\n",
       "\t<dt>HORSE</dt>\n",
       "\t\t<dd>1</dd>\n",
       "\t<dt>ORANGUTAN</dt>\n",
       "\t\t<dd>1</dd>\n",
       "\t<dt>MONKEY</dt>\n",
       "\t\t<dd>1</dd>\n",
       "\t<dt>DONKEY</dt>\n",
       "\t\t<dd>1</dd>\n",
       "\t<dt>HIPPO</dt>\n",
       "\t\t<dd>1</dd>\n",
       "\t<dt>CAMEL</dt>\n",
       "\t\t<dd>1</dd>\n",
       "\t<dt>BISON</dt>\n",
       "\t\t<dd>1</dd>\n",
       "\t<dt>BUFFALO</dt>\n",
       "\t\t<dd>2</dd>\n",
       "\t<dt>GUINEA_PIG</dt>\n",
       "\t\t<dd>2</dd>\n",
       "\t<dt>CAT</dt>\n",
       "\t\t<dd>2</dd>\n",
       "\t<dt>FOX</dt>\n",
       "\t\t<dd>1</dd>\n",
       "\t<dt>LLAMA</dt>\n",
       "\t\t<dd>1</dd>\n",
       "\t<dt>MULE</dt>\n",
       "\t\t<dd>1</dd>\n",
       "\t<dt>PIG</dt>\n",
       "\t\t<dd>1</dd>\n",
       "\t<dt>ZEBRA</dt>\n",
       "\t\t<dd>1</dd>\n",
       "\t<dt>SHEEP</dt>\n",
       "\t\t<dd>1</dd>\n",
       "\t<dt>DOG</dt>\n",
       "\t\t<dd>1</dd>\n",
       "\t<dt>ELEPHANT</dt>\n",
       "\t\t<dd>2</dd>\n",
       "\t<dt>RABBIT</dt>\n",
       "\t\t<dd>3</dd>\n",
       "\t<dt>RAT</dt>\n",
       "\t\t<dd>3</dd>\n",
       "\t<dt>DEER</dt>\n",
       "\t\t<dd>3</dd>\n",
       "\t<dt>REINDEER</dt>\n",
       "\t\t<dd>3</dd>\n",
       "\t<dt>WHALE</dt>\n",
       "\t\t<dd>3</dd>\n",
       "\t<dt>SEAL</dt>\n",
       "\t\t<dd>3</dd>\n",
       "\t<dt>DOLPHIN</dt>\n",
       "\t\t<dd>2</dd>\n",
       "</dl>\n"
      ],
      "text/latex": [
       "\\begin{description*}\n",
       "\\item[HORSE] 1\n",
       "\\item[ORANGUTAN] 1\n",
       "\\item[MONKEY] 1\n",
       "\\item[DONKEY] 1\n",
       "\\item[HIPPO] 1\n",
       "\\item[CAMEL] 1\n",
       "\\item[BISON] 1\n",
       "\\item[BUFFALO] 2\n",
       "\\item[GUINEA\\textbackslash{}\\_PIG] 2\n",
       "\\item[CAT] 2\n",
       "\\item[FOX] 1\n",
       "\\item[LLAMA] 1\n",
       "\\item[MULE] 1\n",
       "\\item[PIG] 1\n",
       "\\item[ZEBRA] 1\n",
       "\\item[SHEEP] 1\n",
       "\\item[DOG] 1\n",
       "\\item[ELEPHANT] 2\n",
       "\\item[RABBIT] 3\n",
       "\\item[RAT] 3\n",
       "\\item[DEER] 3\n",
       "\\item[REINDEER] 3\n",
       "\\item[WHALE] 3\n",
       "\\item[SEAL] 3\n",
       "\\item[DOLPHIN] 2\n",
       "\\end{description*}\n"
      ],
      "text/markdown": [
       "HORSE\n",
       ":   1ORANGUTAN\n",
       ":   1MONKEY\n",
       ":   1DONKEY\n",
       ":   1HIPPO\n",
       ":   1CAMEL\n",
       ":   1BISON\n",
       ":   1BUFFALO\n",
       ":   2GUINEA_PIG\n",
       ":   2CAT\n",
       ":   2FOX\n",
       ":   1LLAMA\n",
       ":   1MULE\n",
       ":   1PIG\n",
       ":   1ZEBRA\n",
       ":   1SHEEP\n",
       ":   1DOG\n",
       ":   1ELEPHANT\n",
       ":   2RABBIT\n",
       ":   3RAT\n",
       ":   3DEER\n",
       ":   3REINDEER\n",
       ":   3WHALE\n",
       ":   3SEAL\n",
       ":   3DOLPHIN\n",
       ":   2\n",
       "\n"
      ],
      "text/plain": [
       "     HORSE  ORANGUTAN     MONKEY     DONKEY      HIPPO      CAMEL      BISON \n",
       "         1          1          1          1          1          1          1 \n",
       "   BUFFALO GUINEA_PIG        CAT        FOX      LLAMA       MULE        PIG \n",
       "         2          2          2          1          1          1          1 \n",
       "     ZEBRA      SHEEP        DOG   ELEPHANT     RABBIT        RAT       DEER \n",
       "         1          1          1          2          3          3          3 \n",
       "  REINDEER      WHALE       SEAL    DOLPHIN \n",
       "         3          3          3          2 "
      ]
     },
     "metadata": {},
     "output_type": "display_data"
    },
    {
     "data": {
      "image/png": "[encoded data removed]",
      "text/plain": [
       "plot without title"
      ]
     },
     "metadata": {},
     "output_type": "display_data"
    }
   ],
   "source": [
    "#Para 3 grupos \n",
    "clus <-Mclust(datos, G=3)\n",
    "summary(clus)\n",
    "clus\n",
    "\n",
    "cl <- clus$classification\n",
    "centers <- t(clus$parameters$mean)\n",
    "centers\n",
    "cl\n",
    "\n",
    "res <- princomp(datos, cor=TRUE)\n",
    "res2 <- predict(res,centers)\n",
    "\n",
    "biplot(res,xlabs=cl)\n",
    "#grafica los centros de cada grupo en el plano de componentes principales utilizando colores distintos\n",
    "points(res2[,1:2],col=1:9,pch=19)"
   ]
  },
  {
   "cell_type": "code",
   "execution_count": 6,
   "metadata": {},
   "outputs": [
    {
     "data": {
      "text/plain": [
       "---------------------------------------------------- \n",
       "Gaussian finite mixture model fitted by EM algorithm \n",
       "---------------------------------------------------- \n",
       "\n",
       "Mclust VEV (ellipsoidal, equal shape) model with 4 components: \n",
       "\n",
       " log-likelihood  n df       BIC       ICL\n",
       "      -129.0138 25 71 -486.5678 -486.5782\n",
       "\n",
       "Clustering table:\n",
       "1 2 3 4 \n",
       "5 8 7 5 "
      ]
     },
     "metadata": {},
     "output_type": "display_data"
    },
    {
     "data": {
      "text/plain": [
       "'Mclust' model object: (VEV,4) \n",
       "\n",
       "Available components: \n",
       " [1] \"call\"           \"data\"           \"modelName\"      \"n\"             \n",
       " [5] \"d\"              \"G\"              \"BIC\"            \"bic\"           \n",
       " [9] \"loglik\"         \"df\"             \"hypvol\"         \"parameters\"    \n",
       "[13] \"z\"              \"classification\" \"uncertainty\"   "
      ]
     },
     "metadata": {},
     "output_type": "display_data"
    },
    {
     "data": {
      "text/html": [
       "<table>\n",
       "<thead><tr><th scope=col>WATER</th><th scope=col>PROTEIN</th><th scope=col>FAT</th><th scope=col>LACTOSE</th><th scope=col>ASH</th></tr></thead>\n",
       "<tbody>\n",
       "\t<tr><td>89.45999 </td><td> 1.980001</td><td> 2.080005</td><td>6.200009 </td><td>0.3279979</td></tr>\n",
       "\t<tr><td>71.88271 </td><td> 7.298580</td><td>15.881214</td><td>3.088610 </td><td>0.7512686</td></tr>\n",
       "\t<tr><td>84.71493 </td><td> 4.756873</td><td> 4.756149</td><td>5.100211 </td><td>0.8185953</td></tr>\n",
       "\t<tr><td>67.86000 </td><td>10.740002</td><td>17.380003</td><td>2.379999 </td><td>1.6400005</td></tr>\n",
       "</tbody>\n",
       "</table>\n"
      ],
      "text/latex": [
       "\\begin{tabular}{lllll}\n",
       " WATER & PROTEIN & FAT & LACTOSE & ASH\\\\\n",
       "\\hline\n",
       "\t 89.45999  &  1.980001 &  2.080005 & 6.200009  & 0.3279979\\\\\n",
       "\t 71.88271  &  7.298580 & 15.881214 & 3.088610  & 0.7512686\\\\\n",
       "\t 84.71493  &  4.756873 &  4.756149 & 5.100211  & 0.8185953\\\\\n",
       "\t 67.86000  & 10.740002 & 17.380003 & 2.379999  & 1.6400005\\\\\n",
       "\\end{tabular}\n"
      ],
      "text/markdown": [
       "\n",
       "| WATER | PROTEIN | FAT | LACTOSE | ASH |\n",
       "|---|---|---|---|---|\n",
       "| 89.45999  |  1.980001 |  2.080005 | 6.200009  | 0.3279979 |\n",
       "| 71.88271  |  7.298580 | 15.881214 | 3.088610  | 0.7512686 |\n",
       "| 84.71493  |  4.756873 |  4.756149 | 5.100211  | 0.8185953 |\n",
       "| 67.86000  | 10.740002 | 17.380003 | 2.379999  | 1.6400005 |\n",
       "\n"
      ],
      "text/plain": [
       "     WATER    PROTEIN   FAT       LACTOSE  ASH      \n",
       "[1,] 89.45999  1.980001  2.080005 6.200009 0.3279979\n",
       "[2,] 71.88271  7.298580 15.881214 3.088610 0.7512686\n",
       "[3,] 84.71493  4.756873  4.756149 5.100211 0.8185953\n",
       "[4,] 67.86000 10.740002 17.380003 2.379999 1.6400005"
      ]
     },
     "metadata": {},
     "output_type": "display_data"
    },
    {
     "data": {
      "text/html": [
       "<dl class=dl-horizontal>\n",
       "\t<dt>HORSE</dt>\n",
       "\t\t<dd>1</dd>\n",
       "\t<dt>ORANGUTAN</dt>\n",
       "\t\t<dd>1</dd>\n",
       "\t<dt>MONKEY</dt>\n",
       "\t\t<dd>1</dd>\n",
       "\t<dt>DONKEY</dt>\n",
       "\t\t<dd>1</dd>\n",
       "\t<dt>HIPPO</dt>\n",
       "\t\t<dd>2</dd>\n",
       "\t<dt>CAMEL</dt>\n",
       "\t\t<dd>3</dd>\n",
       "\t<dt>BISON</dt>\n",
       "\t\t<dd>3</dd>\n",
       "\t<dt>BUFFALO</dt>\n",
       "\t\t<dd>3</dd>\n",
       "\t<dt>GUINEA_PIG</dt>\n",
       "\t\t<dd>2</dd>\n",
       "\t<dt>CAT</dt>\n",
       "\t\t<dd>2</dd>\n",
       "\t<dt>FOX</dt>\n",
       "\t\t<dd>3</dd>\n",
       "\t<dt>LLAMA</dt>\n",
       "\t\t<dd>3</dd>\n",
       "\t<dt>MULE</dt>\n",
       "\t\t<dd>1</dd>\n",
       "\t<dt>PIG</dt>\n",
       "\t\t<dd>2</dd>\n",
       "\t<dt>ZEBRA</dt>\n",
       "\t\t<dd>3</dd>\n",
       "\t<dt>SHEEP</dt>\n",
       "\t\t<dd>3</dd>\n",
       "\t<dt>DOG</dt>\n",
       "\t\t<dd>2</dd>\n",
       "\t<dt>ELEPHANT</dt>\n",
       "\t\t<dd>2</dd>\n",
       "\t<dt>RABBIT</dt>\n",
       "\t\t<dd>4</dd>\n",
       "\t<dt>RAT</dt>\n",
       "\t\t<dd>4</dd>\n",
       "\t<dt>DEER</dt>\n",
       "\t\t<dd>4</dd>\n",
       "\t<dt>REINDEER</dt>\n",
       "\t\t<dd>4</dd>\n",
       "\t<dt>WHALE</dt>\n",
       "\t\t<dd>4</dd>\n",
       "\t<dt>SEAL</dt>\n",
       "\t\t<dd>2</dd>\n",
       "\t<dt>DOLPHIN</dt>\n",
       "\t\t<dd>2</dd>\n",
       "</dl>\n"
      ],
      "text/latex": [
       "\\begin{description*}\n",
       "\\item[HORSE] 1\n",
       "\\item[ORANGUTAN] 1\n",
       "\\item[MONKEY] 1\n",
       "\\item[DONKEY] 1\n",
       "\\item[HIPPO] 2\n",
       "\\item[CAMEL] 3\n",
       "\\item[BISON] 3\n",
       "\\item[BUFFALO] 3\n",
       "\\item[GUINEA\\textbackslash{}\\_PIG] 2\n",
       "\\item[CAT] 2\n",
       "\\item[FOX] 3\n",
       "\\item[LLAMA] 3\n",
       "\\item[MULE] 1\n",
       "\\item[PIG] 2\n",
       "\\item[ZEBRA] 3\n",
       "\\item[SHEEP] 3\n",
       "\\item[DOG] 2\n",
       "\\item[ELEPHANT] 2\n",
       "\\item[RABBIT] 4\n",
       "\\item[RAT] 4\n",
       "\\item[DEER] 4\n",
       "\\item[REINDEER] 4\n",
       "\\item[WHALE] 4\n",
       "\\item[SEAL] 2\n",
       "\\item[DOLPHIN] 2\n",
       "\\end{description*}\n"
      ],
      "text/markdown": [
       "HORSE\n",
       ":   1ORANGUTAN\n",
       ":   1MONKEY\n",
       ":   1DONKEY\n",
       ":   1HIPPO\n",
       ":   2CAMEL\n",
       ":   3BISON\n",
       ":   3BUFFALO\n",
       ":   3GUINEA_PIG\n",
       ":   2CAT\n",
       ":   2FOX\n",
       ":   3LLAMA\n",
       ":   3MULE\n",
       ":   1PIG\n",
       ":   2ZEBRA\n",
       ":   3SHEEP\n",
       ":   3DOG\n",
       ":   2ELEPHANT\n",
       ":   2RABBIT\n",
       ":   4RAT\n",
       ":   4DEER\n",
       ":   4REINDEER\n",
       ":   4WHALE\n",
       ":   4SEAL\n",
       ":   2DOLPHIN\n",
       ":   2\n",
       "\n"
      ],
      "text/plain": [
       "     HORSE  ORANGUTAN     MONKEY     DONKEY      HIPPO      CAMEL      BISON \n",
       "         1          1          1          1          2          3          3 \n",
       "   BUFFALO GUINEA_PIG        CAT        FOX      LLAMA       MULE        PIG \n",
       "         3          2          2          3          3          1          2 \n",
       "     ZEBRA      SHEEP        DOG   ELEPHANT     RABBIT        RAT       DEER \n",
       "         3          3          2          2          4          4          4 \n",
       "  REINDEER      WHALE       SEAL    DOLPHIN \n",
       "         4          4          2          2 "
      ]
     },
     "metadata": {},
     "output_type": "display_data"
    },
    {
     "data": {
      "image/png": "[encoded data removed]",
      "text/plain": [
       "plot without title"
      ]
     },
     "metadata": {},
     "output_type": "display_data"
    }
   ],
   "source": [
    "#Para 4 grupos \n",
    "clus <-Mclust(datos, G=4)\n",
    "summary(clus)\n",
    "clus\n",
    "\n",
    "cl <- clus$classification\n",
    "centers <- t(clus$parameters$mean)\n",
    "centers\n",
    "cl\n",
    "\n",
    "res <- princomp(datos, cor=TRUE)\n",
    "res2 <- predict(res,centers)\n",
    "\n",
    "biplot(res,xlabs=cl)\n",
    "#grafica los centros de cada grupo en el plano de componentes principales utilizando colores distintos\n",
    "points(res2[,1:2],col=1:9,pch=19)"
   ]
  },
  {
   "cell_type": "markdown",
   "metadata": {},
   "source": [
    "Las agrupaciones que se formaron con k-means eran diferentes, por lo que los resultados tambien lo fueron, es decir las agrupaciones eran diferentes, por lo que en cada feature los valores son distintos."
   ]
  },
  {
   "cell_type": "markdown",
   "metadata": {},
   "source": [
    "En lo que sigue, utilizaremos el método hclust, que permite realizar análisis de agrupamiento jerárquico"
   ]
  },
  {
   "cell_type": "code",
   "execution_count": 9,
   "metadata": {},
   "outputs": [
    {
     "data": {
      "image/png": "[encoded data removed]",
      "text/plain": [
       "plot without title"
      ]
     },
     "metadata": {},
     "output_type": "display_data"
    }
   ],
   "source": [
    "res3 <- hclust(dist(datos))\n",
    "biplot(res, xlabs= cutree(res3,4))"
   ]
  },
  {
   "cell_type": "code",
   "execution_count": 10,
   "metadata": {},
   "outputs": [
    {
     "data": {
      "image/png": "[encoded data removed]",
      "text/plain": [
       "Plot with title \"Cluster Dendrogram\""
      ]
     },
     "metadata": {},
     "output_type": "display_data"
    },
    {
     "data": {
      "image/png": "[encoded data removed]",
      "text/plain": [
       "Plot with title \"Cluster Dendrogram\""
      ]
     },
     "metadata": {},
     "output_type": "display_data"
    }
   ],
   "source": [
    "plot(res3)\n",
    "res4<-hclust(d=dist(datos),method=\"median\")\n",
    "plot(res4)"
   ]
  },
  {
   "cell_type": "markdown",
   "metadata": {},
   "source": [
    "Ejercicio 3: \n",
    "\n",
    "\n",
    "a) Explique como funciona el método hclust, describa parámetros de entrada y salida.\n",
    "\n",
    "\n",
    "El metodo hclust implementa una agrupación jerárquica sobre un conjunto de disimilitudes y con algoritmos mas rapidos para analizar.\n",
    "Parametros de entrada: Estructura de disimilitud producida por dist\n",
    "Parametros de salida: Un objeto que produce hclust, y sirve para ser graficado por plot.\n",
    "\n",
    "\n",
    "b) Interprete y comente los resultados obtenidos. \n",
    "\n",
    "\n",
    "Similar a mclust, agrupa los componentes de la leche, ordenados de manera jerarquica y los grupos quedan ordenados de manera diferente, al hacer 3 cortes, los datos se agrupan en 4 grupos.\n",
    "\n",
    "\n",
    "c) Utilice otros parámetros en hclust y discuta como varían los resultados. \n",
    "\n",
    "En cutree se pueden cambiar el numero de cortes y asi cambiar la cantidad de grupos. Tambien podemos cambiar el method, que representa la aglomeracion que se utiliza. Si cambiamos el metodo cambia la forma en que los resultados se presentan."
   ]
  },
  {
   "cell_type": "markdown",
   "metadata": {},
   "source": [
    "Ejercicio 4: \n",
    "\n",
    "\n",
    "a) Realice un análisis de clustering con Kmeans, GMM y Análisis Jerárquico para el conjunto de datos iris.csv\n",
    "Interprete sus resultados.\n",
    "\n",
    "\n",
    "b) Calcule alguna de las medidas de calidad estudiadas (purity, rand index o mutual information) \n",
    "para cada uno de los análisis realizado en (a). Discuta sus resultados."
   ]
  },
  {
   "cell_type": "code",
   "execution_count": 15,
   "metadata": {},
   "outputs": [
    {
     "name": "stdout",
     "output_type": "stream",
     "text": [
      "'data.frame':\t150 obs. of  5 variables:\n",
      " $ Sepal.Length: num  5.1 4.9 4.7 4.6 5 5.4 4.6 5 4.4 4.9 ...\n",
      " $ Sepal.Width : num  3.5 3 3.2 3.1 3.6 3.9 3.4 3.4 2.9 3.1 ...\n",
      " $ Petal.Length: num  1.4 1.4 1.3 1.5 1.4 1.7 1.4 1.5 1.4 1.5 ...\n",
      " $ Petal.Width : num  0.2 0.2 0.2 0.2 0.2 0.4 0.3 0.2 0.2 0.1 ...\n",
      " $ Species     : Factor w/ 3 levels \"setosa\",\"versicolor\",..: 1 1 1 1 1 1 1 1 1 1 ...\n"
     ]
    },
    {
     "data": {
      "text/plain": [
       "  Sepal.Length    Sepal.Width     Petal.Length    Petal.Width   \n",
       " Min.   :4.300   Min.   :2.000   Min.   :1.000   Min.   :0.100  \n",
       " 1st Qu.:5.100   1st Qu.:2.800   1st Qu.:1.600   1st Qu.:0.300  \n",
       " Median :5.800   Median :3.000   Median :4.350   Median :1.300  \n",
       " Mean   :5.843   Mean   :3.057   Mean   :3.758   Mean   :1.199  \n",
       " 3rd Qu.:6.400   3rd Qu.:3.300   3rd Qu.:5.100   3rd Qu.:1.800  \n",
       " Max.   :7.900   Max.   :4.400   Max.   :6.900   Max.   :2.500  \n",
       "       Species  \n",
       " setosa    :50  \n",
       " versicolor:50  \n",
       " virginica :50  \n",
       "                \n",
       "                \n",
       "                "
      ]
     },
     "metadata": {},
     "output_type": "display_data"
    },
    {
     "data": {
      "text/html": [
       "<table>\n",
       "<thead><tr><th scope=col>Sepal.Length</th><th scope=col>Sepal.Width</th><th scope=col>Petal.Length</th><th scope=col>Petal.Width</th></tr></thead>\n",
       "<tbody>\n",
       "\t<tr><td>5.1</td><td>3.5</td><td>1.4</td><td>0.2</td></tr>\n",
       "\t<tr><td>4.9</td><td>3.0</td><td>1.4</td><td>0.2</td></tr>\n",
       "\t<tr><td>4.7</td><td>3.2</td><td>1.3</td><td>0.2</td></tr>\n",
       "\t<tr><td>4.6</td><td>3.1</td><td>1.5</td><td>0.2</td></tr>\n",
       "\t<tr><td>5.0</td><td>3.6</td><td>1.4</td><td>0.2</td></tr>\n",
       "\t<tr><td>5.4</td><td>3.9</td><td>1.7</td><td>0.4</td></tr>\n",
       "</tbody>\n",
       "</table>\n"
      ],
      "text/latex": [
       "\\begin{tabular}{r|llll}\n",
       " Sepal.Length & Sepal.Width & Petal.Length & Petal.Width\\\\\n",
       "\\hline\n",
       "\t 5.1 & 3.5 & 1.4 & 0.2\\\\\n",
       "\t 4.9 & 3.0 & 1.4 & 0.2\\\\\n",
       "\t 4.7 & 3.2 & 1.3 & 0.2\\\\\n",
       "\t 4.6 & 3.1 & 1.5 & 0.2\\\\\n",
       "\t 5.0 & 3.6 & 1.4 & 0.2\\\\\n",
       "\t 5.4 & 3.9 & 1.7 & 0.4\\\\\n",
       "\\end{tabular}\n"
      ],
      "text/markdown": [
       "\n",
       "| Sepal.Length | Sepal.Width | Petal.Length | Petal.Width |\n",
       "|---|---|---|---|\n",
       "| 5.1 | 3.5 | 1.4 | 0.2 |\n",
       "| 4.9 | 3.0 | 1.4 | 0.2 |\n",
       "| 4.7 | 3.2 | 1.3 | 0.2 |\n",
       "| 4.6 | 3.1 | 1.5 | 0.2 |\n",
       "| 5.0 | 3.6 | 1.4 | 0.2 |\n",
       "| 5.4 | 3.9 | 1.7 | 0.4 |\n",
       "\n"
      ],
      "text/plain": [
       "  Sepal.Length Sepal.Width Petal.Length Petal.Width\n",
       "1 5.1          3.5         1.4          0.2        \n",
       "2 4.9          3.0         1.4          0.2        \n",
       "3 4.7          3.2         1.3          0.2        \n",
       "4 4.6          3.1         1.5          0.2        \n",
       "5 5.0          3.6         1.4          0.2        \n",
       "6 5.4          3.9         1.7          0.4        "
      ]
     },
     "metadata": {},
     "output_type": "display_data"
    }
   ],
   "source": [
    "require(\"datasets\")\n",
    "data(\"iris\") #cargar dataset iris desde libreria de r\n",
    "str(iris)\n",
    "summary(iris)\n",
    "iris.new<- iris[,c(1,2,3,4)]\n",
    "iris.class<- iris[,\"Species\"]\n",
    "head(iris.new)"
   ]
  },
  {
   "cell_type": "code",
   "execution_count": 16,
   "metadata": {},
   "outputs": [
    {
     "data": {
      "text/html": [
       "<table>\n",
       "<thead><tr><th scope=col>Sepal.Length</th><th scope=col>Sepal.Width</th><th scope=col>Petal.Length</th><th scope=col>Petal.Width</th></tr></thead>\n",
       "<tbody>\n",
       "\t<tr><td>0.22222222</td><td>0.6250000 </td><td>0.06779661</td><td>0.04166667</td></tr>\n",
       "\t<tr><td>0.16666667</td><td>0.4166667 </td><td>0.06779661</td><td>0.04166667</td></tr>\n",
       "\t<tr><td>0.11111111</td><td>0.5000000 </td><td>0.05084746</td><td>0.04166667</td></tr>\n",
       "\t<tr><td>0.08333333</td><td>0.4583333 </td><td>0.08474576</td><td>0.04166667</td></tr>\n",
       "\t<tr><td>0.19444444</td><td>0.6666667 </td><td>0.06779661</td><td>0.04166667</td></tr>\n",
       "\t<tr><td>0.30555556</td><td>0.7916667 </td><td>0.11864407</td><td>0.12500000</td></tr>\n",
       "</tbody>\n",
       "</table>\n"
      ],
      "text/latex": [
       "\\begin{tabular}{r|llll}\n",
       " Sepal.Length & Sepal.Width & Petal.Length & Petal.Width\\\\\n",
       "\\hline\n",
       "\t 0.22222222 & 0.6250000  & 0.06779661 & 0.04166667\\\\\n",
       "\t 0.16666667 & 0.4166667  & 0.06779661 & 0.04166667\\\\\n",
       "\t 0.11111111 & 0.5000000  & 0.05084746 & 0.04166667\\\\\n",
       "\t 0.08333333 & 0.4583333  & 0.08474576 & 0.04166667\\\\\n",
       "\t 0.19444444 & 0.6666667  & 0.06779661 & 0.04166667\\\\\n",
       "\t 0.30555556 & 0.7916667  & 0.11864407 & 0.12500000\\\\\n",
       "\\end{tabular}\n"
      ],
      "text/markdown": [
       "\n",
       "| Sepal.Length | Sepal.Width | Petal.Length | Petal.Width |\n",
       "|---|---|---|---|\n",
       "| 0.22222222 | 0.6250000  | 0.06779661 | 0.04166667 |\n",
       "| 0.16666667 | 0.4166667  | 0.06779661 | 0.04166667 |\n",
       "| 0.11111111 | 0.5000000  | 0.05084746 | 0.04166667 |\n",
       "| 0.08333333 | 0.4583333  | 0.08474576 | 0.04166667 |\n",
       "| 0.19444444 | 0.6666667  | 0.06779661 | 0.04166667 |\n",
       "| 0.30555556 | 0.7916667  | 0.11864407 | 0.12500000 |\n",
       "\n"
      ],
      "text/plain": [
       "  Sepal.Length Sepal.Width Petal.Length Petal.Width\n",
       "1 0.22222222   0.6250000   0.06779661   0.04166667 \n",
       "2 0.16666667   0.4166667   0.06779661   0.04166667 \n",
       "3 0.11111111   0.5000000   0.05084746   0.04166667 \n",
       "4 0.08333333   0.4583333   0.08474576   0.04166667 \n",
       "5 0.19444444   0.6666667   0.06779661   0.04166667 \n",
       "6 0.30555556   0.7916667   0.11864407   0.12500000 "
      ]
     },
     "metadata": {},
     "output_type": "display_data"
    }
   ],
   "source": [
    "normalize <- function(x){\n",
    "  return ((x-min(x))/(max(x)-min(x)))\n",
    "}\n",
    "\n",
    "iris.new$Sepal.Length<- normalize(iris.new$Sepal.Length)\n",
    "iris.new$Sepal.Width<- normalize(iris.new$Sepal.Width)\n",
    "iris.new$Petal.Length<- normalize(iris.new$Petal.Length)\n",
    "iris.new$Petal.Width<- normalize(iris.new$Petal.Width)\n",
    "head(iris.new)"
   ]
  },
  {
   "cell_type": "code",
   "execution_count": 26,
   "metadata": {},
   "outputs": [
    {
     "data": {
      "text/plain": [
       "            \n",
       "class         1  2  3\n",
       "  setosa      0  0 50\n",
       "  versicolor 47  3  0\n",
       "  virginica  14 36  0"
      ]
     },
     "metadata": {},
     "output_type": "display_data"
    },
    {
     "name": "stdout",
     "output_type": "stream",
     "text": [
      "[1] \"PURITY:\"\n"
     ]
    },
    {
     "data": {
      "text/html": [
       "0.886666666666667"
      ],
      "text/latex": [
       "0.886666666666667"
      ],
      "text/markdown": [
       "0.886666666666667"
      ],
      "text/plain": [
       "[1] 0.8866667"
      ]
     },
     "metadata": {},
     "output_type": "display_data"
    },
    {
     "data": {
      "image/png": "[encoded data removed]",
      "text/plain": [
       "plot without title"
      ]
     },
     "metadata": {},
     "output_type": "display_data"
    }
   ],
   "source": [
    "library(cluster)\n",
    "#K-means\n",
    "KMEANS<-kmeans(iris.new,3,iter.max=1000,nstart=10)\n",
    "# pairs(features,col=KMEANS$cluster)\n",
    "res <- princomp(iris.new, cor=TRUE)\n",
    "res2 <- predict(res,KMEANS$centers)\n",
    "# res2\n",
    "# KMEANS\n",
    "biplot(res,xlabs=KMEANS$cluster)\n",
    "points(res2[,1:2],col=1:3,pch=19)\n",
    "\n",
    "tablaK<-table(class,KMEANS$cluster)\n",
    "tablaK\n",
    "index1=max(tablaK[1,1:3])\n",
    "index2=max(tablaK[2,1:3])\n",
    "index3=max(tablaK[3,1:3])\n",
    "purityK<-((index1)+(index2)+(index3))/150\n",
    "print(\"PURITY:\")\n",
    "purityK"
   ]
  },
  {
   "cell_type": "code",
   "execution_count": 27,
   "metadata": {},
   "outputs": [
    {
     "data": {
      "text/plain": [
       "            \n",
       "class         1  2  3\n",
       "  setosa     50  0  0\n",
       "  versicolor  0 45  5\n",
       "  virginica   0  0 50"
      ]
     },
     "metadata": {},
     "output_type": "display_data"
    },
    {
     "name": "stdout",
     "output_type": "stream",
     "text": [
      "[1] \"PURITY:\"\n"
     ]
    },
    {
     "data": {
      "text/html": [
       "0.966666666666667"
      ],
      "text/latex": [
       "0.966666666666667"
      ],
      "text/markdown": [
       "0.966666666666667"
      ],
      "text/plain": [
       "[1] 0.9666667"
      ]
     },
     "metadata": {},
     "output_type": "display_data"
    },
    {
     "data": {
      "image/png": "[encoded data removed]",
      "text/plain": [
       "plot without title"
      ]
     },
     "metadata": {},
     "output_type": "display_data"
    }
   ],
   "source": [
    "# BIC<-mclustBIC(features)\n",
    "# summary(BIC)\n",
    "GMM <-Mclust(iris.new, G=3)\n",
    "# summary(GMM)\n",
    "# GMM\n",
    "\n",
    "cl <- GMM$classification\n",
    "centers <- t(GMM$parameters$mean)\n",
    "# centers\n",
    "# cl\n",
    "res <- princomp(iris.new, cor=TRUE)\n",
    "res2 <- predict(res,centers)\n",
    "\n",
    "biplot(res,xlabs=cl)\n",
    "points(res2[,1:2],col=1:9,pch=19)\n",
    "\n",
    "tablaGMM<-table(class,GMM$classification)\n",
    "tablaGMM\n",
    "index1=max(tablaGMM[1,1:3])\n",
    "index2=max(tablaGMM[2,1:3])\n",
    "index3=max(tablaGMM[3,1:3])\n",
    "purityGMM<-((index1)+(index2)+(index3))/150\n",
    "print(\"PURITY:\")\n",
    "purityGMM"
   ]
  },
  {
   "cell_type": "code",
   "execution_count": 28,
   "metadata": {},
   "outputs": [
    {
     "data": {
      "image/png": "[encoded data removed]",
      "text/plain": [
       "Plot with title \"Cluster Dendrogram\""
      ]
     },
     "metadata": {},
     "output_type": "display_data"
    },
    {
     "data": {
      "text/plain": [
       "            resH\n",
       "class         1  2  3\n",
       "  setosa     50  0  0\n",
       "  versicolor  0 50  0\n",
       "  virginica   0 17 33"
      ]
     },
     "metadata": {},
     "output_type": "display_data"
    },
    {
     "name": "stdout",
     "output_type": "stream",
     "text": [
      "[1] \"PURITY:\"\n"
     ]
    },
    {
     "data": {
      "text/html": [
       "0.886666666666667"
      ],
      "text/latex": [
       "0.886666666666667"
      ],
      "text/markdown": [
       "0.886666666666667"
      ],
      "text/plain": [
       "[1] 0.8866667"
      ]
     },
     "metadata": {},
     "output_type": "display_data"
    },
    {
     "data": {
      "image/png": "[encoded data removed]",
      "text/plain": [
       "plot without title"
      ]
     },
     "metadata": {},
     "output_type": "display_data"
    }
   ],
   "source": [
    "JERARQUICO <- hclust(dist(iris.new),method=\"average\")\n",
    "plot(JERARQUICO)\n",
    "resH<-cutree(JERARQUICO,3)\n",
    "biplot(res, xlabs= cutree(JERARQUICO,3))\n",
    "\n",
    "\n",
    "tablaH<-table(class,resH)\n",
    "tablaH\n",
    "index1=max(tablaH[1,1:3])\n",
    "index2=max(tablaH[2,1:3])\n",
    "index3=max(tablaH[3,1:3])\n",
    "purityH<-((index1)+(index2)+(index3))/150\n",
    "print(\"PURITY:\")\n",
    "purityH"
   ]
  },
  {
   "cell_type": "markdown",
   "metadata": {},
   "source": [
    "En los tres se calculo purity y el modelo con mayor precisión en este caso es GMM, siendo bastante estable con un 96,7%, mientras que k-means varía en cada iteración, y el modelo jerérquico varia bastante dependiendo de la metodología utilizada(en este caso se utilizó AVERAGE). "
   ]
  }
 ],
 "metadata": {
  "celltoolbar": "Raw Cell Format",
  "kernelspec": {
   "display_name": "R",
   "language": "R",
   "name": "ir"
  },
  "language_info": {
   "codemirror_mode": "r",
   "file_extension": ".r",
   "mimetype": "text/x-r-source",
   "name": "R",
   "pygments_lexer": "r",
   "version": "3.6.1"
  }
 },
 "nbformat": 4,
 "nbformat_minor": 2
}
